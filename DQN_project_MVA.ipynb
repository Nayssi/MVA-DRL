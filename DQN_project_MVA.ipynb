{
 "cells": [
  {
   "cell_type": "markdown",
   "metadata": {},
   "source": [
    "**You may need to install [OpenCV](https://pypi.python.org/pypi/opencv-python) and [scikit-video](http://www.scikit-video.org/stable/).**"
   ]
  },
  {
   "cell_type": "code",
   "execution_count": 1,
   "metadata": {},
   "outputs": [
    {
     "name": "stderr",
     "output_type": "stream",
     "text": [
      "Using TensorFlow backend.\n"
     ]
    }
   ],
   "source": [
    "import keras\n",
    "import numpy as np\n",
    "import io\n",
    "import base64\n",
    "from IPython.display import HTML\n",
    "import skvideo.io\n",
    "import cv2\n",
    "import json\n",
    "import random\n",
    "\n",
    "from keras.models import Sequential, model_from_json\n",
    "from keras.layers.core import Dense, Flatten\n",
    "from keras.optimizers import sgd\n",
    "from keras.layers import Conv2D, MaxPooling2D, Activation, AveragePooling2D,Reshape,BatchNormalization"
   ]
  },
  {
   "cell_type": "markdown",
   "metadata": {},
   "source": [
    "# MiniProject on Deep Reinforcement Learning"
   ]
  },
  {
   "cell_type": "markdown",
   "metadata": {},
   "source": [
    "__Notations__: $E_p$ is the expectation under probability $p$. Please justify each of your answer and widely comment your code."
   ]
  },
  {
   "cell_type": "markdown",
   "metadata": {},
   "source": [
    "# Context"
   ]
  },
  {
   "cell_type": "markdown",
   "metadata": {},
   "source": [
    "In a reinforcement learning algorithm, we modelize each step $t$ as an action $a_t$ obtained from a state $s_t$, i.e. $\\{(a_{t},s_{t})_{t\\leq T}\\}$ having the Markov property. We consider a discount factor $\\gamma \\in [0,1]$ that ensures convergence. The goal is to find among all the policies $\\pi$, one that maximizes the expected reward:\n",
    "\n",
    "\\begin{equation*}\n",
    "R(\\pi)=\\sum_{t\\leq T}E_{p^{\\pi}}[\\gamma^t r(s_{t},a_{t})] \\> ,\n",
    "\\end{equation*}\n",
    "\n",
    "where: \n",
    "\\begin{equation*}p^{\\pi}(a_{0},a_{1},s_{1},...,a_{T},s_{T})=p(a_{0})\\prod_{t=1}^{T}\\pi(a_{t}|s_{t})p(s_{t+1}|s_{t},a_{t}) \\> .\n",
    "\\end{equation*}\n",
    "\n",
    "We note the $Q$-function:\n",
    "\n",
    "\\begin{equation*}Q^\\pi(s,a)=E_{p^{\\pi}}[\\sum_{t\\leq T}\\gamma^{t}r(s_{t},a_{t})|s_{0}=s,a_{0}=a] \\> .\n",
    "\\end{equation*}\n",
    "\n",
    "Thus, the optimal Q function is:\n",
    "\\begin{equation*}\n",
    "Q^*(s,a)=\\max_{\\pi}Q^\\pi(s,a) \\> .\n",
    "\\end{equation*}\n",
    "\n",
    "In this project, we will apply the deep reinforcement learning techniques to a simple game: an agent will have to learn from scratch a policy that will permit it maximizing a reward."
   ]
  },
  {
   "cell_type": "markdown",
   "metadata": {},
   "source": [
    "## The environment, the agent and the game"
   ]
  },
  {
   "cell_type": "markdown",
   "metadata": {},
   "source": [
    "### The environment"
   ]
  },
  {
   "cell_type": "markdown",
   "metadata": {},
   "source": [
    "```Environment``` is an abstract class that represents the states, rewards, and actions to obtain the new state."
   ]
  },
  {
   "cell_type": "code",
   "execution_count": 2,
   "metadata": {},
   "outputs": [],
   "source": [
    "class Environment(object):\n",
    "    def __init__(self):\n",
    "        pass\n",
    "\n",
    "    def act(self, act):\n",
    "        \"\"\"\n",
    "        One can act on the environment and obtain its reaction:\n",
    "        - the new state\n",
    "        - the reward of the new state\n",
    "        - should we continue the game?\n",
    "\n",
    "        :return: state, reward, game_over\n",
    "        \"\"\"\n",
    "        pass\n",
    "\n",
    "\n",
    "    def reset(self):\n",
    "        \"\"\"\n",
    "        Reinitialize the environment to a random state and returns\n",
    "        the original state\n",
    "\n",
    "        :return: state\n",
    "        \"\"\"\n",
    "        pass\n",
    "    \n",
    "    def draw(self):\n",
    "        \"\"\"\n",
    "        Visualize in the console or graphically the current state\n",
    "        \"\"\"\n",
    "        pass"
   ]
  },
  {
   "cell_type": "markdown",
   "metadata": {},
   "source": [
    "## The method ```act``` allows to act on the environment at a given state $s_t$ (stored internally), via action $a_t$. The method will return the new state $s_{t+1}$, the reward $r(s_{t},a_{t})$ and determines if $t\\leq T$ (*game_over*).\n",
    "\n",
    "The method ```reset``` simply reinitializes the environment to a random state $s_0$.\n",
    "\n",
    "The method ```draw``` displays the current state $s_t$ (this is useful to check the behavior of the Agent).\n",
    "\n",
    "We modelize $s_t$ as a tensor, while $a_t$ is an integer."
   ]
  },
  {
   "cell_type": "markdown",
   "metadata": {},
   "source": [
    "### The Agent"
   ]
  },
  {
   "cell_type": "markdown",
   "metadata": {},
   "source": [
    "The goal of the ```Agent``` is to interact with the ```Environment``` by proposing actions $a_t$ obtained from a given state $s_t$ to attempt to maximize its __reward__ $r(s_t,a_t)$. We propose the following abstract class:"
   ]
  },
  {
   "cell_type": "code",
   "execution_count": 3,
   "metadata": {},
   "outputs": [],
   "source": [
    "class Agent(object):\n",
    "    def __init__(self, epsilon=0.1, n_action=4):\n",
    "        self.epsilon = epsilon\n",
    "        self.n_action = n_action\n",
    "    \n",
    "    def set_epsilon(self,e):\n",
    "        self.epsilon = e\n",
    "\n",
    "    def act(self,s,train=True):\n",
    "        \"\"\" This function should return the next action to do:\n",
    "        an integer between 0 and 4 (not included) with a random exploration of epsilon\"\"\"\n",
    "        if train:\n",
    "            if np.random.rand() <= self.epsilon:\n",
    "                a = np.random.randint(0, self.n_action, size=1)[0]\n",
    "            else:\n",
    "                a = self.learned_act(s)\n",
    "        else: # in some cases, this can improve the performance.. remove it if poor performances\n",
    "            a = self.learned_act(s)\n",
    "\n",
    "        return a\n",
    "\n",
    "    def learned_act(self,s):\n",
    "        \"\"\" Act via the policy of the agent, from a given state s\n",
    "        it proposes an action a\"\"\"\n",
    "        pass\n",
    "\n",
    "    def reinforce(self, s, n_s, a, r, game_over_):\n",
    "        \"\"\" This function is the core of the learning algorithm. \n",
    "        It takes as an input the current state s_, the next state n_s_\n",
    "        the action a_ used to move from s_ to n_s_ and the reward r_.\n",
    "        \n",
    "        Its goal is to learn a policy.\n",
    "        \"\"\"\n",
    "        pass\n",
    "\n",
    "    def save(self):\n",
    "        \"\"\" This function returns basic stats if applicable: the\n",
    "        loss and/or the model\"\"\"\n",
    "        pass\n",
    "\n",
    "    def load(self):\n",
    "        \"\"\" This function allows to restore a model\"\"\"\n",
    "        pass"
   ]
  },
  {
   "cell_type": "markdown",
   "metadata": {},
   "source": [
    "***\n",
    "__Question 1__:\n",
    "Explain the function act. Why is ```epsilon``` essential?"
   ]
  },
  {
   "cell_type": "markdown",
   "metadata": {},
   "source": [
    "The function ```act``` is the function that returns the action that the agent should choose.\n",
    "If we're in 'train' mode, we decide to choose this action either randomly (with probability $\\epsilon$) or we choose the best action learned until now (with probability $1-\\epsilon$). \n",
    "Therefore the $\\epsilon$ is important as it's the proportion of times we choose to explore new actions (and improve our learning) while the rest of the time, we just exploit what we learned."
   ]
  },
  {
   "cell_type": "markdown",
   "metadata": {},
   "source": [
    "***\n",
    "### The Game"
   ]
  },
  {
   "cell_type": "markdown",
   "metadata": {},
   "source": [
    "The ```Agent``` and the ```Environment``` work in an interlaced way as in the following (take some time to understand this code as it is the core of the project)\n",
    "\n",
    "```python\n",
    "\n",
    "epoch = 300\n",
    "env = Environment()\n",
    "agent = Agent()\n",
    "\n",
    "\n",
    "# Number of won games\n",
    "score = 0\n",
    "loss = 0\n",
    "\n",
    "\n",
    "for e in range(epoch):\n",
    "    # At each epoch, we restart to a fresh game and get the initial state\n",
    "    state = env.reset()\n",
    "    # This assumes that the games will end\n",
    "    game_over = False\n",
    "\n",
    "    win = 0\n",
    "    lose = 0\n",
    "    \n",
    "    while not game_over:\n",
    "        # The agent performs an action\n",
    "        action = agent.act(state)\n",
    "\n",
    "        # Apply an action to the environment, get the next state, the reward\n",
    "        # and if the games end\n",
    "        prev_state = state\n",
    "        state, reward, game_over = env.act(action)\n",
    "\n",
    "        # Update the counters\n",
    "        if reward > 0:\n",
    "            win = win + reward\n",
    "        if reward < 0:\n",
    "            lose = lose -reward\n",
    "\n",
    "        # Apply the reinforcement strategy\n",
    "        loss = agent.reinforce(prev_state, state,  action, reward, game_over)\n",
    "\n",
    "    # Save as a mp4\n",
    "    if e % 10 == 0:\n",
    "        env.draw(e)\n",
    "\n",
    "    # Update stats\n",
    "    score += win-lose\n",
    "\n",
    "    print(\"Epoch {:03d}/{:03d} | Loss {:.4f} | Win/lose count {}/{} ({})\"\n",
    "          .format(e, epoch, loss, win, lose, win-lose))\n",
    "    agent.save()\n",
    "```"
   ]
  },
  {
   "cell_type": "markdown",
   "metadata": {},
   "source": [
    "# The game, *eat cheese*"
   ]
  },
  {
   "cell_type": "markdown",
   "metadata": {},
   "source": [
    "A rat runs on an island and tries to eat as much as possible. The island is subdivided into $N\\times N$ cells, in which there are cheese (+0.5) and poisonous cells (-1). The rat has a visibility of 2 cells (thus it can see $5^2$ cells). The rat is given a time $T$ to accumulate as much food as possible. It can perform 4 actions: going up, down, left, right. \n",
    "\n",
    "The goal is to code an agent to solve this task that will learn by trial and error. We propose the following environment:"
   ]
  },
  {
   "cell_type": "code",
   "execution_count": 4,
   "metadata": {},
   "outputs": [],
   "source": [
    "class Environment(object):\n",
    "    def __init__(self, grid_size=10, max_time=500, temperature=0.1):\n",
    "        grid_size = grid_size+4\n",
    "        self.grid_size = grid_size\n",
    "        self.max_time = max_time\n",
    "        self.temperature = temperature\n",
    "\n",
    "        #board on which one plays\n",
    "        self.board = np.zeros((grid_size,grid_size))\n",
    "        self.position = np.zeros((grid_size,grid_size))\n",
    "\n",
    "        # coordinate of the cat\n",
    "        self.x = 0\n",
    "        self.y = 1\n",
    "\n",
    "        # self time\n",
    "        self.t = 0\n",
    "\n",
    "        self.scale=16\n",
    "\n",
    "        self.to_draw = np.zeros((max_time+2, grid_size*self.scale, grid_size*self.scale, 3))\n",
    "\n",
    "\n",
    "    def draw(self,e):\n",
    "        skvideo.io.vwrite(str(e) + '.mp4', self.to_draw)\n",
    "\n",
    "    def get_frame(self,t):\n",
    "        b = np.zeros((self.grid_size,self.grid_size,3))+128\n",
    "        b[self.board>0,0] = 256\n",
    "        b[self.board < 0, 2] = 256\n",
    "        b[self.x,self.y,:]=256\n",
    "        b[-2:,:,:]=0\n",
    "        b[:,-2:,:]=0\n",
    "        b[:2,:,:]=0\n",
    "        b[:,:2,:]=0\n",
    "        \n",
    "        b =  cv2.resize(b, None, fx=self.scale, fy=self.scale, interpolation=cv2.INTER_NEAREST)\n",
    "\n",
    "        self.to_draw[t,:,:,:]=b\n",
    "\n",
    "\n",
    "    def act(self, action):\n",
    "        \"\"\"This function returns the new state, reward and decides if the\n",
    "        game ends.\"\"\"\n",
    "\n",
    "        self.get_frame(int(self.t))\n",
    "\n",
    "        self.position = np.zeros((self.grid_size, self.grid_size))\n",
    "\n",
    "        self.position[0:2,:]= -1\n",
    "        self.position[:,0:2] = -1\n",
    "        self.position[-2:, :] = -1\n",
    "        self.position[-2:, :] = -1\n",
    "\n",
    "        self.position[self.x, self.y] = 1\n",
    "        if action == 0:\n",
    "            if self.x == self.grid_size-3:\n",
    "                self.x = self.x-1\n",
    "            else:\n",
    "                self.x = self.x + 1\n",
    "        elif action == 1:\n",
    "            if self.x == 2:\n",
    "                self.x = self.x+1\n",
    "            else:\n",
    "                self.x = self.x-1\n",
    "        elif action == 2:\n",
    "            if self.y == self.grid_size - 3:\n",
    "                self.y = self.y - 1\n",
    "            else:\n",
    "                self.y = self.y + 1\n",
    "        elif action == 3:\n",
    "            if self.y == 2:\n",
    "                self.y = self.y + 1\n",
    "            else:\n",
    "                self.y = self.y - 1\n",
    "        else:\n",
    "            RuntimeError('Error: action not recognized')\n",
    "\n",
    "        self.t = self.t + 1\n",
    "        reward = self.board[self.x, self.y]\n",
    "        self.board[self.x, self.y] = 0\n",
    "        game_over = self.t > self.max_time\n",
    "        state = np.concatenate((self.board.reshape(self.grid_size, self.grid_size,1),\n",
    "                        self.position.reshape(self.grid_size, self.grid_size,1)),axis=2)\n",
    "        state = state[self.x-2:self.x+3,self.y-2:self.y+3,:]\n",
    "\n",
    "        return state, reward, game_over\n",
    "\n",
    "    def reset(self):\n",
    "        \"\"\"This function resets the game and returns the initial state\"\"\"\n",
    "\n",
    "        self.x = np.random.randint(3, self.grid_size-3, size=1)[0]\n",
    "        self.y = np.random.randint(3, self.grid_size-3, size=1)[0]\n",
    "\n",
    "\n",
    "        bonus = 0.5*np.random.binomial(1,self.temperature,size=self.grid_size**2)\n",
    "        bonus = bonus.reshape(self.grid_size,self.grid_size)\n",
    "\n",
    "        malus = -1.0*np.random.binomial(1,self.temperature,size=self.grid_size**2)\n",
    "        malus = malus.reshape(self.grid_size, self.grid_size)\n",
    "\n",
    "        self.to_draw = np.zeros((self.max_time+2, self.grid_size*self.scale, self.grid_size*self.scale, 3))\n",
    "\n",
    "\n",
    "        malus[bonus>0]=0\n",
    "\n",
    "        self.board = bonus + malus\n",
    "\n",
    "        self.position = np.zeros((self.grid_size, self.grid_size))\n",
    "        self.position[0:2,:]= -1\n",
    "        self.position[:,0:2] = -1\n",
    "        self.position[-2:, :] = -1\n",
    "        self.position[-2:, :] = -1\n",
    "        self.board[self.x,self.y] = 0\n",
    "        self.t = 0\n",
    "\n",
    "        state = np.concatenate((\n",
    "                               self.board.reshape(self.grid_size, self.grid_size,1),\n",
    "                        self.position.reshape(self.grid_size, self.grid_size,1)),axis=2)\n",
    "\n",
    "        state = state[self.x - 2:self.x + 3, self.y - 2:self.y + 3, :]\n",
    "        return state"
   ]
  },
  {
   "cell_type": "markdown",
   "metadata": {},
   "source": [
    "The following elements are important because they correspond to the hyper parameters for this project:"
   ]
  },
  {
   "cell_type": "code",
   "execution_count": 5,
   "metadata": {},
   "outputs": [],
   "source": [
    "# parameters\n",
    "size = 13\n",
    "T=200\n",
    "temperature=0.3\n",
    "epochs_train= 50 # set small when debugging\n",
    "epochs_test= 10 # set small when debugging\n",
    "\n",
    "# display videos\n",
    "def display_videos(name):\n",
    "    video = io.open(name, 'r+b').read()\n",
    "    encoded = base64.b64encode(video)\n",
    "    return '''<video alt=\"test\" controls>\n",
    "                <source src=\"data:video/mp4;base64,{0}\" type=\"video/mp4\" />\n",
    "             </video>'''.format(encoded.decode('ascii'))"
   ]
  },
  {
   "cell_type": "markdown",
   "metadata": {},
   "source": [
    "__Question 2__ Explain the use of the arrays ```position``` and ```board```."
   ]
  },
  {
   "cell_type": "markdown",
   "metadata": {},
   "source": [
    "- ```position``` is the array showing th position of the mouse. The cell where the mouse is has a value of 1, while the rest are set to 0 (except the cells around the island that are set to -1).\n",
    "- ```board``` contains the positions of the cheese (+0.5) and the poisonous cells (-1). The cells containing nothing are set to 0."
   ]
  },
  {
   "cell_type": "markdown",
   "metadata": {},
   "source": [
    "## Random Agent"
   ]
  },
  {
   "cell_type": "markdown",
   "metadata": {},
   "source": [
    "***\n",
    "__Question 3__ Implement a random Agent (only ```learned_act``` needs to be implemented):"
   ]
  },
  {
   "cell_type": "code",
   "execution_count": 6,
   "metadata": {},
   "outputs": [],
   "source": [
    "class RandomAgent(Agent):\n",
    "    def __init__(self):\n",
    "        super(RandomAgent, self).__init__()\n",
    "        pass\n",
    "\n",
    "    def learned_act(self, s):\n",
    "        return np.random.randint(self.n_action)"
   ]
  },
  {
   "cell_type": "markdown",
   "metadata": {},
   "source": [
    "***\n",
    "***\n",
    "__Question 4__ Visualize the game moves. You need to fill in the following function for the evaluation:"
   ]
  },
  {
   "cell_type": "code",
   "execution_count": 7,
   "metadata": {},
   "outputs": [],
   "source": [
    "def test(agent,env,epochs,prefix=''):\n",
    "    # Number of won games\n",
    "    score = 0\n",
    "        \n",
    "    for e in range(epochs):\n",
    "        \n",
    "        # At each epoch, we restart to a fresh game and get the initial state\n",
    "        state = env.reset()\n",
    "        # This assumes that the games will end\n",
    "        game_over = False\n",
    "\n",
    "        win = 0\n",
    "        lose = 0\n",
    "\n",
    "        while not game_over:\n",
    "            # The agent performs an action\n",
    "            action = agent.act(state)\n",
    "\n",
    "            # Apply an action to the environment, get the next state, the reward\n",
    "            # and if the games end\n",
    "            prev_state = state\n",
    "            state, reward, game_over = env.act(action)\n",
    "\n",
    "            # Update the counters\n",
    "            if reward > 0:\n",
    "                win = win + reward\n",
    "            if reward < 0:\n",
    "                lose = lose -reward\n",
    "\n",
    "            # Apply the reinforcement strategy\n",
    "            loss = agent.reinforce(prev_state, state,  action, reward, game_over)\n",
    "        \n",
    "        # Save as a mp4\n",
    "        env.draw(prefix+str(e))\n",
    "\n",
    "        # Update stats\n",
    "        score = score + win-lose\n",
    "\n",
    "        print(\"Win/lose count {}/{}. Average score ({})\"\n",
    "              .format(win, lose, score/(1+e)))\n",
    "    print('Final score: '+str(score/epochs))"
   ]
  },
  {
   "cell_type": "code",
   "execution_count": 8,
   "metadata": {},
   "outputs": [
    {
     "name": "stdout",
     "output_type": "stream",
     "text": [
      "Win/lose count 9.0/13.0. Average score (-4.0)\n",
      "Win/lose count 12.0/10.0. Average score (-1.0)\n",
      "Win/lose count 14.5/25.0. Average score (-4.166666666666667)\n",
      "Win/lose count 12.0/13.0. Average score (-3.375)\n",
      "Win/lose count 10.5/14.0. Average score (-3.4)\n",
      "Win/lose count 9.5/18.0. Average score (-4.25)\n",
      "Win/lose count 9.5/13.0. Average score (-4.142857142857143)\n",
      "Win/lose count 8.5/23.0. Average score (-5.4375)\n",
      "Win/lose count 11.5/15.0. Average score (-5.222222222222222)\n",
      "Win/lose count 14.0/17.0. Average score (-5.0)\n",
      "Final score: -5.0\n"
     ]
    },
    {
     "data": {
      "text/html": [
       "<video alt=\"test\" controls>\n",
       "                <source src=\"data:video/mp4;base64,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\" type=\"video/mp4\" />\n",
       "             </video>"
      ],
      "text/plain": [
       "<IPython.core.display.HTML object>"
      ]
     },
     "execution_count": 8,
     "metadata": {},
     "output_type": "execute_result"
    }
   ],
   "source": [
    "# Initialize the game\n",
    "env = Environment(grid_size=size, max_time=T,temperature=temperature)\n",
    "\n",
    "# Initialize the agent!\n",
    "agent = RandomAgent()\n",
    "\n",
    "test(agent,env,epochs_test,prefix='random')\n",
    "HTML(display_videos('random0.mp4'))"
   ]
  },
  {
   "cell_type": "markdown",
   "metadata": {},
   "source": [
    "***\n",
    "## DQN"
   ]
  },
  {
   "cell_type": "markdown",
   "metadata": {},
   "source": [
    "Let us assume here that $T=\\infty$.\n",
    "\n",
    "***\n",
    "__Question 5__ Let $\\pi$ be a policy, show that:\n",
    "\n",
    "\\begin{equation*}\n",
    "Q^{\\pi}(s,a)=E_{(s',a')\\sim p(.|s,a)}[r(s,a)+\\gamma Q^{\\pi}(s',a')]\n",
    "\\end{equation*}\n",
    "\n",
    "Then, show that for the optimal policy $\\pi^*$ (we assume its existence), the following holds: \n",
    "\n",
    "\\begin{equation*}\n",
    "Q^{*}(s,a)=E_{s'\\sim \\pi^*(.|s,a)}[r(s,a)+\\gamma\\max_{a'}Q^{*}(s',a')].\n",
    "\\end{equation*}\n",
    "Finally, deduce that a plausible objective is:\n",
    "\n",
    "\\begin{equation*}\n",
    "\\mathcal{L}(\\theta)=E_{s' \\sim \\pi^*(.|s,a)}\\Vert r+\\gamma\\max_{a'}Q(s',a',\\theta)-Q(s,a,\\theta)\\Vert^{2}.\n",
    "\\end{equation*}\n",
    "\n",
    "\n"
   ]
  },
  {
   "cell_type": "markdown",
   "metadata": {},
   "source": [
    "#### Equality 1\n",
    "Let $\\pi$ be a policy. Using the definition of the Q function we have :  \n",
    "$Q^\\pi(s,a) = E_{p^{\\pi}}[\\sum_{t\\leq T}\\gamma^{t}r(s_{t},a_{t})|s_{0}=s,a_{0}=a] = E_{p^{\\pi}}[r(s, a) + \\gamma \\sum_{1 \\leq t\\leq T}\\gamma^{t-1}r(s_{t},a_{t})|s_{0}=s,a_{0}=a] $\n",
    "\n",
    "Therefore, if we condition on the value of $s_{1}$ and $a_{1}$, we obtain:\n",
    "$Q^\\pi(s,a) = E_{(s',a')\\sim p(.|s,a)}[r(s, a) + E_{p^{\\pi}}[\\gamma \\sum_{1 \\leq t\\leq T}\\gamma^{t-1}r(s_{t},a_{t}) |s_{1}=s',a_{1}=a' ]] \\> = E_{(s',a')\\sim p(.|s,a)}[r(s, a) + \\gamma Q^\\pi(s', a')] \\>\n",
    "$"
   ]
  },
  {
   "cell_type": "markdown",
   "metadata": {},
   "source": [
    "#### Equality 2\n",
    "$\n",
    "Q^{*}(s, a) =\\max _{\\pi} Q^{\\pi}(s, a) =\\max _{\\pi} E_{\\left(s^{\\prime}, a^{\\prime}\\right) \\sim p(.|s, a)}\\left[r(s, a)+\\gamma Q^{\\pi}\\left(s^{\\prime}, a^{\\prime}\\right)\\right]\n",
    "=r(s, a)+\\gamma \\max _{\\pi} E_{\\left(s^{\\prime}, a^{\\prime}\\right) \\sim p(.|s, a)}\\left[Q^{\\pi}\\left(s^{\\prime}, a^{\\prime}\\right)\\right]$\n",
    "\n",
    "Then, by definition of the optimal policy : \n",
    "\n",
    "$Q^{*}(s, a) = r(s, a)+ \\gamma E_{s^{\\prime} \\sim \\pi^{*}(.| s, a)}\\left[\\max _{a'} Q^{*}\\left(s^{\\prime}, a^{\\prime}\\right)\\right]\n",
    "=E_{s^{\\prime} \\sim \\pi^{*}(.| s, a)}\\left[r(s, a)+\\gamma \\max _{a'} Q^{*}\\left(s^{\\prime}, a^{\\prime}\\right)\\right]\n",
    "$"
   ]
  },
  {
   "cell_type": "markdown",
   "metadata": {},
   "source": [
    "#### Equality 3\n",
    "We can rewrite the last equality as : $E_{s^{'} \\sim \\pi^{*}(.| s, a)}[r(s, a)+\\gamma \\max _{a'} Q^{*}(s^{'}, a^{'}) - Q^{*}(s, a)] = 0$. A reasonable objective for the NN would therefore be to minimize the quantity $|E_{s^{'} \\sim \\pi^{*}(.| s, a)}[r(s, a)+\\gamma \\max _{a'} Q^{*}(s^{'}, a^{'}) - Q^{*}(s, a)]|$ in order to enforce the previous equality in our Q-function. Therefore, a plausible objective is:\n",
    "\\begin{equation*}\n",
    "\\mathcal{L}(\\theta)=E_{s' \\sim \\pi^*(.|s,a)}\\Vert r+\\gamma\\max_{a'}Q(s',a',\\theta)-Q(s,a,\\theta)\\Vert^{2}.\n",
    "\\end{equation*}"
   ]
  },
  {
   "cell_type": "markdown",
   "metadata": {},
   "source": [
    "***\n",
    "The DQN-learning algorithm relies on these derivations to train the parameters $\\theta$ of a Deep Neural Network:\n",
    "\n",
    "1. At the state $s_t$, select the action $a_t$ with best reward using $Q_t$ and store the results;\n",
    "\n",
    "2. Obtain the new state $s_{t+1}$ from the environment $p$;\n",
    "\n",
    "3. Store $(s_t,a_t,s_{t+1})$;\n",
    "\n",
    "4. Obtain $Q_{t+1}$ by minimizing  $\\mathcal{L}$ from a recovered batch from the previously stored results.\n",
    "\n",
    "***\n",
    "__Question 6__ Implement the class ```Memory``` that stores moves (in a replay buffer) via ```remember``` and provides a ```random_access``` to these. Specify a maximum memory size to avoid side effects. You can for example use a ```list()``` and set by default ```max_memory=100```."
   ]
  },
  {
   "cell_type": "code",
   "execution_count": 10,
   "metadata": {},
   "outputs": [],
   "source": [
    "class Memory(object):\n",
    "    def __init__(self, max_memory=100):\n",
    "        self.max_memory = max_memory\n",
    "        self.memory = list()\n",
    "        \n",
    "    #We delete a value when we reach the max_memory\n",
    "    def remember(self, m):\n",
    "        self.memory.append(m)\n",
    "        if len(self.memory) > self.max_memory:\n",
    "            self.memory.pop(0)\n",
    "\n",
    "    def random_access(self):\n",
    "        return random.choice(self.memory)"
   ]
  },
  {
   "cell_type": "markdown",
   "metadata": {},
   "source": [
    "***\n",
    "The pipeline we will use for training is given below:"
   ]
  },
  {
   "cell_type": "code",
   "execution_count": 11,
   "metadata": {},
   "outputs": [],
   "source": [
    "def train(agent,env,epoch,prefix=''):\n",
    "    # Number of won games\n",
    "    score = 0\n",
    "    loss = 0\n",
    "\n",
    "    for e in range(epoch):\n",
    "        # At each epoch, we restart to a fresh game and get the initial state\n",
    "        state = env.reset()\n",
    "        # This assumes that the games will terminate\n",
    "        game_over = False\n",
    "\n",
    "        win = 0\n",
    "        lose = 0\n",
    "\n",
    "        while not game_over:\n",
    "            # The agent performs an action\n",
    "            action = agent.act(state)\n",
    "\n",
    "            # Apply an action to the environment, get the next state, the reward\n",
    "            # and if the games end\n",
    "            prev_state = state\n",
    "            state, reward, game_over = env.act(action)\n",
    "\n",
    "            # Update the counters\n",
    "            if reward > 0:\n",
    "                win = win + reward\n",
    "            if reward < 0:\n",
    "                lose = lose -reward\n",
    "\n",
    "            # Apply the reinforcement strategy\n",
    "            loss = agent.reinforce(prev_state, state,  action, reward, game_over)\n",
    "\n",
    "        # Save as a mp4\n",
    "        if e % 10 == 0:\n",
    "            env.draw(prefix+str(e))\n",
    "\n",
    "        # Update stats\n",
    "        score += win-lose\n",
    "\n",
    "        print(\"Epoch {:03d}/{:03d} | Loss {:.4f} | Win/lose count {}/{} ({})\"\n",
    "              .format(e, epoch, loss, win, lose, win-lose))\n",
    "        agent.save(name_weights=prefix+'model.h5',name_model=prefix+'model.json')"
   ]
  },
  {
   "cell_type": "markdown",
   "metadata": {},
   "source": [
    "***\n",
    "__Question 7__ Implement the DQN training algorithm using a cascade of fully connected layers. You can use different learning rate, batch size or memory size parameters. In particular, the loss might oscillate while the player will start to win the games. You have to find a good criterium."
   ]
  },
  {
   "cell_type": "code",
   "execution_count": 12,
   "metadata": {},
   "outputs": [],
   "source": [
    "class DQN(Agent):\n",
    "    def __init__(self, grid_size,  epsilon = 0.1, memory_size=100, batch_size = 16,n_state=2):\n",
    "        super(DQN, self).__init__(epsilon = epsilon)\n",
    "\n",
    "        # Discount for Q learning\n",
    "        self.discount = 0.99\n",
    "        \n",
    "        self.grid_size = grid_size\n",
    "        \n",
    "        # number of state\n",
    "        self.n_state = n_state\n",
    "\n",
    "        # Memory\n",
    "        self.memory = Memory(memory_size)\n",
    "        \n",
    "        # Batch size when learning\n",
    "        self.batch_size = batch_size\n",
    "\n",
    "    def learned_act(self, s):\n",
    "        return np.argmax(self.model.predict(s.reshape((1, 5, 5, self.n_state)))[0])\n",
    "\n",
    "\n",
    "    def reinforce(self, s_, n_s_, a_, r_, game_over_):\n",
    "        # Two steps: first memorize the states, second learn from the pool\n",
    "\n",
    "        self.memory.remember([s_, n_s_, a_, r_, game_over_])\n",
    "        \n",
    "        input_states = np.zeros((self.batch_size, 5, 5, self.n_state))\n",
    "        target_q = np.zeros((self.batch_size, 4))\n",
    "        \n",
    "        for i in range(self.batch_size):\n",
    "            ######## FILL IN\n",
    "            #using the replay buffer\n",
    "            s_, n_s_, a_, r_, game_over_ = self.memory.random_access()\n",
    "            target_q[i] = self.model.predict(s_.reshape((1, 5, 5, self.n_state)))[0]\n",
    "            \n",
    "            if game_over_:\n",
    "                ######## FILL IN\n",
    "                input_states[i] = s_\n",
    "                target_q[i, a_] = r_\n",
    "                \n",
    "            else:\n",
    "                ######## FILL IN\n",
    "                input_states[i] = s_\n",
    "                #bellman equation\n",
    "                target_q[i, a_] = r_ + self.discount * max(self.model.predict(n_s_.reshape((1, 5, 5, self.n_state)))[0])\n",
    "                \n",
    "        ######## FILL IN\n",
    "        # HINT: Clip the target to avoid exploiding gradients.. -- clipping is a bit tighter\n",
    "        target_q = np.clip(target_q, -3, 3)\n",
    "\n",
    "        l = self.model.train_on_batch(input_states, target_q)\n",
    "\n",
    "        return l\n",
    "\n",
    "    def save(self,name_weights='model.h5',name_model='model.json'):\n",
    "        self.model.save_weights(name_weights, overwrite=True)\n",
    "        with open(name_model, \"w\") as outfile:\n",
    "            json.dump(self.model.to_json(), outfile)\n",
    "            \n",
    "    def load(self,name_weights='model.h5',name_model='model.json'):\n",
    "        with open(name_model, \"r\") as jfile:\n",
    "            model = model_from_json(json.load(jfile))\n",
    "        model.load_weights(name_weights)\n",
    "        model.compile(\"sgd\", \"mse\")\n",
    "        self.model = model\n",
    "\n",
    "class DQN_FC(DQN):\n",
    "    \n",
    "    def __init__(self, *args, lr=0.1,**kwargs):\n",
    "        super(DQN_FC, self).__init__( *args,**kwargs)\n",
    "        \n",
    "        # NN Model\n",
    "        \n",
    "        ####### FILL IN\n",
    "        model = Sequential()\n",
    "        model.add(Flatten(input_shape=(5, 5, self.n_state)))\n",
    "        model.add(Dense(32, activation=\"relu\"))\n",
    "        model.add(Dense(16, activation=\"relu\"))\n",
    "        model.add(Dense(4, activation=None))\n",
    "        model.compile(sgd(lr=lr, decay=1e-4, momentum=0.0), \"mse\")\n",
    "        self.model = model\n"
   ]
  },
  {
   "cell_type": "code",
   "execution_count": 14,
   "metadata": {},
   "outputs": [
    {
     "name": "stdout",
     "output_type": "stream",
     "text": [
      "Epoch 000/050 | Loss 0.0044 | Win/lose count 4.0/2.0 (2.0)\n",
      "Epoch 001/050 | Loss 0.0039 | Win/lose count 2.0/3.0 (-1.0)\n",
      "Epoch 002/050 | Loss 0.0072 | Win/lose count 1.5/5.0 (-3.5)\n",
      "Epoch 003/050 | Loss 0.0332 | Win/lose count 1.0/5.0 (-4.0)\n",
      "Epoch 004/050 | Loss 0.0032 | Win/lose count 2.0/4.0 (-2.0)\n",
      "Epoch 005/050 | Loss 0.0328 | Win/lose count 2.5/4.0 (-1.5)\n",
      "Epoch 006/050 | Loss 0.0027 | Win/lose count 3.5/2.0 (1.5)\n",
      "Epoch 007/050 | Loss 0.0056 | Win/lose count 2.0/1.0 (1.0)\n",
      "Epoch 008/050 | Loss 0.0050 | Win/lose count 1.5/8.0 (-6.5)\n",
      "Epoch 009/050 | Loss 0.0007 | Win/lose count 4.0/3.0 (1.0)\n",
      "Epoch 010/050 | Loss 0.0048 | Win/lose count 4.0/6.0 (-2.0)\n",
      "Epoch 011/050 | Loss 0.0047 | Win/lose count 2.5/3.0 (-0.5)\n",
      "Epoch 012/050 | Loss 0.0107 | Win/lose count 5.0/9.0 (-4.0)\n",
      "Epoch 013/050 | Loss 0.0141 | Win/lose count 2.5/4.0 (-1.5)\n",
      "Epoch 014/050 | Loss 0.0444 | Win/lose count 5.0/2.0 (3.0)\n",
      "Epoch 015/050 | Loss 0.0538 | Win/lose count 3.0/1.0 (2.0)\n",
      "Epoch 016/050 | Loss 0.0033 | Win/lose count 1.5/1.0 (0.5)\n",
      "Epoch 017/050 | Loss 0.0074 | Win/lose count 4.0/2.0 (2.0)\n",
      "Epoch 018/050 | Loss 0.0034 | Win/lose count 3.5/6.0 (-2.5)\n",
      "Epoch 019/050 | Loss 0.0576 | Win/lose count 1.5/0 (1.5)\n",
      "Epoch 020/050 | Loss 0.0039 | Win/lose count 4.5/1.0 (3.5)\n",
      "Epoch 021/050 | Loss 0.0064 | Win/lose count 3.5/6.0 (-2.5)\n",
      "Epoch 022/050 | Loss 0.0191 | Win/lose count 4.5/2.0 (2.5)\n",
      "Epoch 023/050 | Loss 0.0058 | Win/lose count 2.5/0 (2.5)\n",
      "Epoch 024/050 | Loss 0.0046 | Win/lose count 3.5/2.0 (1.5)\n",
      "Epoch 025/050 | Loss 0.0124 | Win/lose count 5.5/3.0 (2.5)\n",
      "Epoch 026/050 | Loss 0.0488 | Win/lose count 4.0/4.0 (0.0)\n",
      "Epoch 027/050 | Loss 0.0087 | Win/lose count 8.0/4.0 (4.0)\n",
      "Epoch 028/050 | Loss 0.0045 | Win/lose count 4.5/1.0 (3.5)\n",
      "Epoch 029/050 | Loss 0.0113 | Win/lose count 6.0/4.0 (2.0)\n",
      "Epoch 030/050 | Loss 0.0138 | Win/lose count 4.5/5.0 (-0.5)\n",
      "Epoch 031/050 | Loss 0.0457 | Win/lose count 1.5/6.0 (-4.5)\n",
      "Epoch 032/050 | Loss 0.0076 | Win/lose count 4.0/3.0 (1.0)\n",
      "Epoch 033/050 | Loss 0.0057 | Win/lose count 1.5/2.0 (-0.5)\n",
      "Epoch 034/050 | Loss 0.0048 | Win/lose count 4.5/2.0 (2.5)\n",
      "Epoch 035/050 | Loss 0.0196 | Win/lose count 5.5/1.0 (4.5)\n",
      "Epoch 036/050 | Loss 0.0042 | Win/lose count 5.5/4.0 (1.5)\n",
      "Epoch 037/050 | Loss 0.0068 | Win/lose count 6.0/3.0 (3.0)\n",
      "Epoch 038/050 | Loss 0.0060 | Win/lose count 4.0/2.0 (2.0)\n",
      "Epoch 039/050 | Loss 0.0143 | Win/lose count 4.0/3.0 (1.0)\n",
      "Epoch 040/050 | Loss 0.0180 | Win/lose count 9.0/7.0 (2.0)\n",
      "Epoch 041/050 | Loss 0.0415 | Win/lose count 8.5/7.0 (1.5)\n",
      "Epoch 042/050 | Loss 0.0058 | Win/lose count 6.5/2.0 (4.5)\n",
      "Epoch 043/050 | Loss 0.0036 | Win/lose count 2.0/1.0 (1.0)\n",
      "Epoch 044/050 | Loss 0.0041 | Win/lose count 13.0/3.0 (10.0)\n",
      "Epoch 045/050 | Loss 0.0052 | Win/lose count 5.0/4.0 (1.0)\n",
      "Epoch 046/050 | Loss 0.0128 | Win/lose count 6.0/2.0 (4.0)\n",
      "Epoch 047/050 | Loss 0.0043 | Win/lose count 7.0/0 (7.0)\n",
      "Epoch 048/050 | Loss 0.0061 | Win/lose count 12.5/3.0 (9.5)\n",
      "Epoch 049/050 | Loss 0.0089 | Win/lose count 2.0/4.0 (-2.0)\n"
     ]
    },
    {
     "data": {
      "text/html": [
       "<video alt=\"test\" controls>\n",
       "                <source src=\"data:video/mp4;base64,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\" type=\"video/mp4\" />\n",
       "             </video>"
      ],
      "text/plain": [
       "<IPython.core.display.HTML object>"
      ]
     },
     "execution_count": 14,
     "metadata": {},
     "output_type": "execute_result"
    }
   ],
   "source": [
    "epochs_train=50\n",
    "env = Environment(grid_size=size, max_time=T, temperature=0.3)\n",
    "agent = DQN_FC(size, lr=.1, epsilon = 0.1, memory_size=2000, batch_size = 32)\n",
    "train(agent, env, epochs_train, prefix='fc_train')\n",
    "HTML(display_videos('fc_train10.mp4'))"
   ]
  },
  {
   "cell_type": "markdown",
   "metadata": {},
   "source": [
    "***\n",
    "***\n",
    "__Question 8__ Implement the DQN training algorithm using a CNN (for example, 2 convolutional layers and one final fully connected layer)."
   ]
  },
  {
   "cell_type": "code",
   "execution_count": 15,
   "metadata": {},
   "outputs": [],
   "source": [
    "class DQN_CNN(DQN):\n",
    "    def __init__(self, *args,lr=0.1,**kwargs):\n",
    "        super(DQN_CNN, self).__init__(*args,**kwargs)\n",
    "        \n",
    "        ###### FILL IN\n",
    "        model = Sequential()\n",
    "        model.add(Conv2D(filters=32, kernel_size=2, activation=\"relu\", padding=\"valid\", input_shape=(5, 5, self.n_state)))\n",
    "        model.add(Conv2D(filters=16, kernel_size=2, activation=\"relu\"))\n",
    "        model.add(Flatten())\n",
    "        model.add(Dense(4, activation=None))\n",
    "        \n",
    "        model.compile(sgd(lr=lr, decay=1e-4, momentum=0.0), \"mse\")\n",
    "        self.model = model"
   ]
  },
  {
   "cell_type": "code",
   "execution_count": 16,
   "metadata": {},
   "outputs": [
    {
     "name": "stdout",
     "output_type": "stream",
     "text": [
      "Epoch 000/050 | Loss 0.0062 | Win/lose count 2.0/5.0 (-3.0)\n",
      "Epoch 001/050 | Loss 0.0035 | Win/lose count 1.5/2.0 (-0.5)\n",
      "Epoch 002/050 | Loss 0.0027 | Win/lose count 5.5/2.0 (3.5)\n",
      "Epoch 003/050 | Loss 0.0031 | Win/lose count 1.0/2.0 (-1.0)\n",
      "Epoch 004/050 | Loss 0.0087 | Win/lose count 1.5/4.0 (-2.5)\n",
      "Epoch 005/050 | Loss 0.0033 | Win/lose count 3.5/6.0 (-2.5)\n",
      "Epoch 006/050 | Loss 0.0019 | Win/lose count 5.5/8.0 (-2.5)\n",
      "Epoch 007/050 | Loss 0.0032 | Win/lose count 4.5/6.0 (-1.5)\n",
      "Epoch 008/050 | Loss 0.0028 | Win/lose count 3.0/5.0 (-2.0)\n",
      "Epoch 009/050 | Loss 0.0015 | Win/lose count 5.5/1.0 (4.5)\n",
      "Epoch 010/050 | Loss 0.0501 | Win/lose count 9.0/2.0 (7.0)\n",
      "Epoch 011/050 | Loss 0.0020 | Win/lose count 11.0/6.0 (5.0)\n",
      "Epoch 012/050 | Loss 0.0489 | Win/lose count 7.5/3.0 (4.5)\n",
      "Epoch 013/050 | Loss 0.0470 | Win/lose count 6.5/5.0 (1.5)\n",
      "Epoch 014/050 | Loss 0.0035 | Win/lose count 5.5/4.0 (1.5)\n",
      "Epoch 015/050 | Loss 0.0457 | Win/lose count 4.0/3.0 (1.0)\n",
      "Epoch 016/050 | Loss 0.0027 | Win/lose count 4.5/0 (4.5)\n",
      "Epoch 017/050 | Loss 0.0035 | Win/lose count 15.0/0 (15.0)\n",
      "Epoch 018/050 | Loss 0.0015 | Win/lose count 4.5/0 (4.5)\n",
      "Epoch 019/050 | Loss 0.0055 | Win/lose count 10.5/1.0 (9.5)\n",
      "Epoch 020/050 | Loss 0.0029 | Win/lose count 17.0/1.0 (16.0)\n",
      "Epoch 021/050 | Loss 0.0479 | Win/lose count 4.5/2.0 (2.5)\n",
      "Epoch 022/050 | Loss 0.0031 | Win/lose count 11.0/1.0 (10.0)\n",
      "Epoch 023/050 | Loss 0.0036 | Win/lose count 6.0/1.0 (5.0)\n",
      "Epoch 024/050 | Loss 0.0596 | Win/lose count 16.0/5.0 (11.0)\n",
      "Epoch 025/050 | Loss 0.0016 | Win/lose count 6.0/3.0 (3.0)\n",
      "Epoch 026/050 | Loss 0.0018 | Win/lose count 11.0/2.0 (9.0)\n",
      "Epoch 027/050 | Loss 0.0561 | Win/lose count 17.5/2.0 (15.5)\n",
      "Epoch 028/050 | Loss 0.0034 | Win/lose count 20.0/1.0 (19.0)\n",
      "Epoch 029/050 | Loss 0.0039 | Win/lose count 13.5/3.0 (10.5)\n",
      "Epoch 030/050 | Loss 0.0024 | Win/lose count 8.5/2.0 (6.5)\n",
      "Epoch 031/050 | Loss 0.0492 | Win/lose count 11.5/2.0 (9.5)\n",
      "Epoch 032/050 | Loss 0.0021 | Win/lose count 8.5/3.0 (5.5)\n",
      "Epoch 033/050 | Loss 0.0458 | Win/lose count 10.0/4.0 (6.0)\n",
      "Epoch 034/050 | Loss 0.0042 | Win/lose count 8.0/0 (8.0)\n",
      "Epoch 035/050 | Loss 0.0032 | Win/lose count 9.5/3.0 (6.5)\n",
      "Epoch 036/050 | Loss 0.0033 | Win/lose count 9.5/0 (9.5)\n",
      "Epoch 037/050 | Loss 0.0034 | Win/lose count 8.5/2.0 (6.5)\n",
      "Epoch 038/050 | Loss 0.0014 | Win/lose count 10.5/0 (10.5)\n",
      "Epoch 039/050 | Loss 0.0022 | Win/lose count 4.5/1.0 (3.5)\n",
      "Epoch 040/050 | Loss 0.0018 | Win/lose count 9.0/2.0 (7.0)\n",
      "Epoch 041/050 | Loss 0.0874 | Win/lose count 15.0/1.0 (14.0)\n",
      "Epoch 042/050 | Loss 0.0035 | Win/lose count 15.5/2.0 (13.5)\n",
      "Epoch 043/050 | Loss 0.0039 | Win/lose count 9.5/1.0 (8.5)\n",
      "Epoch 044/050 | Loss 0.0031 | Win/lose count 20.5/3.0 (17.5)\n",
      "Epoch 045/050 | Loss 0.0027 | Win/lose count 9.0/3.0 (6.0)\n",
      "Epoch 046/050 | Loss 0.0027 | Win/lose count 9.0/6.0 (3.0)\n",
      "Epoch 047/050 | Loss 0.0029 | Win/lose count 17.5/5.0 (12.5)\n",
      "Epoch 048/050 | Loss 0.0015 | Win/lose count 19.0/0 (19.0)\n",
      "Epoch 049/050 | Loss 0.0011 | Win/lose count 12.0/4.0 (8.0)\n"
     ]
    },
    {
     "data": {
      "text/html": [
       "<video alt=\"test\" controls>\n",
       "                <source src=\"data:video/mp4;base64,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\" type=\"video/mp4\" />\n",
       "             </video>"
      ],
      "text/plain": [
       "<IPython.core.display.HTML object>"
      ]
     },
     "execution_count": 16,
     "metadata": {},
     "output_type": "execute_result"
    }
   ],
   "source": [
    "env = Environment(grid_size=size, max_time=T, temperature=0.3)\n",
    "agent = DQN_CNN(size, lr=.1, epsilon = 0.1, memory_size=2000, batch_size = 32)\n",
    "train(agent,env,epochs_train,prefix='cnn_train')\n",
    "HTML(display_videos('cnn_train10.mp4'))"
   ]
  },
  {
   "cell_type": "markdown",
   "metadata": {},
   "source": [
    "***\n",
    "***\n",
    "__Question 9__ Test both algorithms and compare their performances. Which issue(s) do you observe? Observe also different behaviors by changing the temperature."
   ]
  },
  {
   "cell_type": "code",
   "execution_count": 17,
   "metadata": {},
   "outputs": [
    {
     "name": "stdout",
     "output_type": "stream",
     "text": [
      "Test of the CNN\n",
      "Win/lose count 3.5/0. Average score (3.5)\n",
      "Win/lose count 6.0/6.0. Average score (1.75)\n",
      "Win/lose count 12.0/7.0. Average score (2.8333333333333335)\n",
      "Win/lose count 7.0/7.0. Average score (2.125)\n",
      "Win/lose count 3.5/0. Average score (2.4)\n",
      "Win/lose count 5.0/5.0. Average score (2.0)\n",
      "Win/lose count 7.0/2.0. Average score (2.4285714285714284)\n",
      "Win/lose count 7.5/6.0. Average score (2.3125)\n",
      "Win/lose count 8.0/3.0. Average score (2.611111111111111)\n",
      "Win/lose count 7.5/1.0. Average score (3.0)\n",
      "Final score: 3.0\n",
      "Test of the FC\n",
      "Win/lose count 2.5/4.0. Average score (-1.5)\n",
      "Win/lose count 3.5/7.0. Average score (-2.5)\n",
      "Win/lose count 7.0/4.0. Average score (-0.6666666666666666)\n",
      "Win/lose count 3.0/3.0. Average score (-0.5)\n",
      "Win/lose count 3.5/1.0. Average score (0.1)\n",
      "Win/lose count 3.5/3.0. Average score (0.16666666666666666)\n",
      "Win/lose count 4.0/10.0. Average score (-0.7142857142857143)\n",
      "Win/lose count 3.0/5.0. Average score (-0.875)\n",
      "Win/lose count 2.5/3.0. Average score (-0.8333333333333334)\n",
      "Win/lose count 1.5/3.0. Average score (-0.9)\n",
      "Final score: -0.9\n"
     ]
    }
   ],
   "source": [
    "env = Environment(grid_size=size, max_time=T,temperature=0.3)\n",
    "agent_cnn = DQN_CNN(size, lr=.1, epsilon = 0.1, memory_size=2000, batch_size = 32)\n",
    "agent_cnn.load(name_weights='cnn_trainmodel.h5',name_model='cnn_trainmodel.json')\n",
    "\n",
    "agent_fc = DQN_FC(size, lr=.1, epsilon = 0.1, memory_size=2000, batch_size = 32)\n",
    "agent_cnn.load(name_weights='fc_trainmodel.h5',name_model='fc_trainmodel.json')\n",
    "print('Test of the CNN')\n",
    "test(agent_cnn,env,epochs_test,prefix='cnn_test')\n",
    "print('Test of the FC')\n",
    "test(agent_fc,env,epochs_test,prefix='fc_test')"
   ]
  },
  {
   "cell_type": "code",
   "execution_count": 21,
   "metadata": {},
   "outputs": [
    {
     "data": {
      "text/html": [
       "<video alt=\"test\" controls>\n",
       "                <source src=\"data:video/mp4;base64,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\" type=\"video/mp4\" />\n",
       "             </video>"
      ],
      "text/plain": [
       "<IPython.core.display.HTML object>"
      ]
     },
     "execution_count": 21,
     "metadata": {},
     "output_type": "execute_result"
    }
   ],
   "source": [
    "HTML(display_videos('./cnn_test9.mp4'))"
   ]
  },
  {
   "cell_type": "code",
   "execution_count": 22,
   "metadata": {},
   "outputs": [
    {
     "data": {
      "text/html": [
       "<video alt=\"test\" controls>\n",
       "                <source src=\"data:video/mp4;base64,AAAAIGZ0eXBpc29tAAACAGlzb21pc28yYXZjMW1wNDEAAAAIZnJlZQAAFoRtZGF0AAACrQYF//+p3EXpvebZSLeWLNgg2SPu73gyNjQgLSBjb3JlIDE1NSByMjkxNyAwYTg0ZDk4IC0gSC4yNjQvTVBFRy00IEFWQyBjb2RlYyAtIENvcHlsZWZ0IDIwMDMtMjAxOCAtIGh0dHA6Ly93d3cudmlkZW9sYW4ub3JnL3gyNjQuaHRtbCAtIG9wdGlvbnM6IGNhYmFjPTEgcmVmPTMgZGVibG9jaz0xOjA6MCBhbmFseXNlPTB4MToweDExMSBtZT1oZXggc3VibWU9NyBwc3k9MSBwc3lfcmQ9MS4wMDowLjAwIG1peGVkX3JlZj0xIG1lX3JhbmdlPTE2IGNocm9tYV9tZT0xIHRyZWxsaXM9MSA4eDhkY3Q9MCBjcW09MCBkZWFkem9uZT0yMSwxMSBmYXN0X3Bza2lwPTEgY2hyb21hX3FwX29mZnNldD00IHRocmVhZHM9NiBsb29rYWhlYWRfdGhyZWFkcz0xIHNsaWNlZF90aHJlYWRzPTAgbnI9MCBkZWNpbWF0ZT0xIGludGVybGFjZWQ9MCBibHVyYXlfY29tcGF0PTAgY29uc3RyYWluZWRfaW50cmE9MCBiZnJhbWVzPTMgYl9weXJhbWlkPTIgYl9hZGFwdD0xIGJfYmlhcz0wIGRpcmVjdD0xIHdlaWdodGI9MSBvcGVuX2dvcD0wIHdlaWdodHA9MiBrZXlpbnQ9MjUwIGtleWludF9taW49MjUgc2NlbmVjdXQ9NDAgaW50cmFfcmVmcmVzaD0wIHJjX2xvb2thaGVhZD00MCByYz1jcmYgbWJ0cmVlPTEgY3JmPTIzLjAgcWNvbXA9MC42MCBxcG1pbj0wIHFwbWF4PTY5IHFwc3RlcD00IGlwX3JhdGlvPTEuNDAgYXE9MToxLjAwAIAAAALFZYiEADf//vaH+BTZWBP+Wb/9DX/cj9uPrP1xYyEE31qvIejAGS+1H+b/rFFs6Z6UB/fgCJQAc24ZwpJw4v/ApLdW+BTLYTnGrzD8eNPwpbJHJ82/tzNQPaRBed2wxDtGwypw3Dt/9va00nET+UOZMBOGhO+j6PbLqFopT8EOO6VFjAC5igAQDMQMq1hWFZVosn/O/qp0dIYJHJ+bxoxWdEMAuIVDO92zUKZ0GqNZsjPezlXnEXBDH6fkIOAAbDPifXXIC7/PydZiD03GSmOQP4Jk/hZuoyRevE3F1P3YmkGFeMxD0eHC9b6YqqoNs3cTf1oFCbjIp90JJd2RDKa/90df5NeUg3Jk8eP+cAPc6ixMJyHEtRIxtIeJiUNPv5mHJPt0/SpxAfiiUNMgacDo0AHt3aLgEe4u1FbgAzUzITgn09NSffU7+g8LnzU5WfPSZ87xxtB2wu+ZKoBoQ0wCIuOFhfrM50/5lIUcOWn2l/iwdKDU6aTB22AQHlxDLzeoPd9JPg+qU7DDZT4I7EpNhkMxAGrNAf+BaW1UJMlaDVm/noBUdyO9EonCJ0ZYPjF1VBIEJK/07BdOgBTcU+ckZG2ABKiqW5PapVKCMBju5oCQxLhgIbS20NmwxGlwoVZyZ2gjfJ5ISnlYOmCqT3rCQCRal0lhNgHF+ZoMT4t2vIyiI0mrRmznJdrCICux27TjE8/JSimP85d/dIKZp1NFHV1GXpnkU6n/ina8zLH/UWvKZKApc0W10ONXDYx6gnQKtt6AB10UREXuE4XaoK1AD4UCpw4qahtyFo97Yzp75GuOUEsyZfqlQZ62ViQB1UrhEPW+J0PhUBKwH8kfFxHsWJHkgkoCbaIi0iwOpK52bDdkikOMl9lLsmTmvscs22Dqdn7eWuqI/quHT+HMrPBeTq1roqzmgImaRQKGlIleYl1ngACKgQAAAA1BmiJsQ7/+qZYAAJWAAAAAEAGeQXkK/wAD2LAN+AD7syEAAAAaQZpFPCGTKYQ7//6plgACc/S6Bw/zukKYVlAAAAAOQZ5jalPCvwAD4g/52OEAAAAPAZ6EakK/AAKgo0TUlZ2BAAAAJ0GaiUmoQWiZTAhv//6nhAAE/+QNtzLK57x+BSpbPwKZ2Bi7eaLpiQAAABBBnqdFESwv/wAC/CN3uGvBAAAADwGexnRCvwAD+Rh5Q0DO3wAAAA8BnshqQr8AA/lgS5X+X0AAAAAdQZrNSahBbJlMCG///qeEAAU/FsYEIn8vD/8BJWEAAAAQQZ7rRRUsL/8AAySpoBr4zgAAAA8Bnwp0Qr8AA/hegMkvBoAAAAAPAZ8MakK/AAQ3YjyXM+WbAAAAGEGbD0moQWyZTBRMN//+p4QAA191K3RfZwAAAA8Bny5qQr8ABDg1gXX+WkEAAAASQZsxSeEKUmUwUsN//qeEAAEnAAAAEAGfUGpCvwAEKWLditH3XcAAAAASQZtTSeEOiZTBRMM//p4QAAR9AAAAEAGfcmpCvwAEKWLditH3XcAAAAASQZt1SeEPJlMFPDP//p4QAAR8AAAAEAGflGpCvwAEKWLditH3XcEAAAAYQZuWSeEPJlMCGf/+nhAAFI+J2dboGSYsAAAAGEGbt0nhDyZTAhn//p4QABP/dNjLk2Vg1QAAABhBm9hJ4Q8mUwIb//6nhAAE/+NOgrWZTm0AAAAYQZv5SeEPJlMCG//+p4QABNvo5oK1mU51AAAAH0GaHEnhDyZTAhv//qeEAAS746e+WgQn8TQW54Xaq5EAAAATQZ46RRE8K/8AA8wLznWT2zIZgAAAABABnltqQr8AA7YRM030kIFxAAAAGUGaXUmoQWiZTAh3//6plgACYL92OCj6NoEAAAARQZphSeEKUmUwIb/+p4QAAScAAAAMQZ6fRTRML/8AALKAAAAAEAGevnRCvwADwqG7p2XaEIEAAAAQAZ6gakK/AAPCob2K0fdpgAAAABpBmqJJqEFomUwId//+qZYAAmPx50s6Op6FwQAAAB1BmsZJ4QpSZTAh3/6plgADk/Cj7l7LxxWkbjJ8QAAAABFBnuRFNEwv/wAENn/WNVHX5QAAAA8BnwN0Qr8ABdOgHQnJsKEAAAAQAZ8FakK/AAPMrg1x4q3RIQAAABNBmwpJqEFomUwId//+qZYAAJWBAAAADEGfKEURLC//AACygAAAABABn0d0Qr8AA81isXn8Dp/AAAAAEAGfSWpCvwADzGoc/zLeZEEAAAATQZtOSahBbJlMCHf//qmWAACVgAAAAAxBn2xFFSwv/wAAsoAAAAAQAZ+LdEK/AAPNYrF5/A6fwQAAABABn41qQr8AA8xqHP8y3mRBAAAAE0GbkkmoQWyZTAh3//6plgAAlYEAAAAMQZ+wRRUsL/8AALKAAAAAEAGfz3RCvwADzWKxefwOn8AAAAAQAZ/RakK/AAPMahz/Mt5kQQAAABNBm9ZJqEFsmUwId//+qZYAAJWAAAAAFEGf9EUVLC//AALEmz8zbiFuf7msAAAAEAGeE3RCvwADzWKxbGypY1EAAAAQAZ4VakK/AAPMrg1x4q3RIAAAABNBmhpJqEFsmUwId//+qZYAAJWBAAAADEGeOEUVLC//AACygQAAABABnld0Qr8AA81isXn8Dp/AAAAAEAGeWWpCvwADzGoc/zLeZEEAAAATQZpeSahBbJlMCHf//qmWAACVgAAAAAxBnnxFFSwv/wAAsoEAAAAQAZ6bdEK/AAPNYrF5/A6fwQAAABABnp1qQr8AA8xqHP8y3mRAAAAAEkGagkmoQWyZTAhv//6nhAABJwAAAAxBnqBFFSwv/wAAsoEAAAAQAZ7fdEK/AAPNYrF5/A6fwAAAABABnsFqQr8AA8xqHP8y3mRBAAAAEkGaxkmoQWyZTAhv//6nhAABJwAAABRBnuRFFSwv/wACxJs/M24hbn+5rQAAABABnwN0Qr8AA81isWxsqWNRAAAAEAGfBWpCvwADthEzTfSQgXEAAAAaQZsHSahBbJlMCHf//qmWAAGUgsrjNL+2RMEAAAAlQZsrSeEKUmUwIb/+p4QABP/bp5lleMM/Apls7PgUKS3bzzciOAAAABBBn0lFNEwv/wAC/CN3uGvAAAAADwGfaHRCvwAD+Rh5Q0DO3wAAAA8Bn2pqQr8AA/lgS5X+X0AAAAASQZttSahBaJlMFPDf/qeEAAEnAAAAEAGfjGpCvwAD7rAN7PH3Y0EAAAASQZuPSeEKUmUwUsN//qeEAAEnAAAAEAGfrmpCvwAD7rAN7PH3Y0EAAAASQZuxSeEOiZTBRMN//qeEAAEnAAAAEAGf0GpCvwAD7rAN7PH3Y0AAAAASQZvTSeEPJlMFPDf//qeEAAEnAAAAEAGf8mpCvwAD7rAN7PH3Y0AAAAASQZv1SeEPJlMFPDf//qeEAAEnAAAAEAGeFGpCvwAD7rAN7PH3Y0EAAAASQZoXSeEPJlMFPDf//qeEAAEnAAAAEAGeNmpCvwAD7rAN7PH3Y0EAAAASQZo5SeEPJlMFPDf//qeEAAEnAAAAEAGeWGpCvwAD7rAN7PH3Y0AAAAASQZpbSeEPJlMFPDf//qeEAAEnAAAAEAGeempCvwAD7rAN7PH3Y0AAAAASQZp9SeEPJlMFPDf//qeEAAEnAAAAEAGenGpCvwAD7rAN7PH3Y0EAAAASQZqfSeEPJlMFPDf//qeEAAEnAAAAEAGevmpCvwAD7rAN7PH3Y0AAAAATQZqhSeEPJlMFPDv//qmWAACVgQAAABABnsBqQr8AA+6wDezx92NAAAAAE0Gaw0nhDyZTBTw7//6plgAAlYEAAAAQAZ7iakK/AAPusA3s8fdjQAAAABtBmudJ4Q8mUwId//6plgAChfJL8uz2oWQpdUcAAAAQQZ8FRRE8L/8AAvwjd7hrwQAAABABnyR0Qr8AA/fE8Um2S2+BAAAADwGfJmpCvwACoKNE1JWdgQAAABNBmytJqEFomUwId//+qZYAAJWAAAAADEGfSUURLC//AACygAAAAA8Bn2h0Qr8AAqFo7o7b4mcAAAAPAZ9qakK/AAKHZRus9WmHAAAAJkGbb0moQWyZTAhv//6nhAAE/9unmWV4wz8CmWzs+BQpLdvPNyI4AAAAEEGfjUUVLC//AAL8I3e4a8EAAAAPAZ+sdEK/AAP5GHlDQM7fAAAADwGfrmpCvwAD+WBLlf5fQQAAABNBm7FJqEFsmUwUTDf//qeEAAEnAAAAEAGf0GpCvwAD7rAN7PH3Y0AAAAASQZvTSeEKUmUwUsN//qeEAAEnAAAAEAGf8mpCvwAD7rAN7PH3Y0AAAAASQZv1SeEOiZTBRMN//qeEAAEnAAAAEAGeFGpCvwAD7rAN7PH3Y0EAAAASQZoXSeEPJlMFPDf//qeEAAEnAAAAEAGeNmpCvwAD7rAN7PH3Y0EAAAASQZo5SeEPJlMFPDf//qeEAAEnAAAAEAGeWGpCvwAD7rAN7PH3Y0AAAAASQZpbSeEPJlMFPDf//qeEAAEnAAAAEAGeempCvwAD7rAN7PH3Y0AAAAATQZp9SeEPJlMFPDv//qmWAACVgQAAABABnpxqQr8AA+6wDezx92NBAAAAE0Gan0nhDyZTBTw7//6plgAAlYAAAAAQAZ6+akK/AAPusA3s8fdjQAAAABtBmqNJ4Q8mUwId//6plgAChfJL8uz2oWQpdUcAAAAQQZ7BRRE8L/8AAvwjd7hrwAAAABABnuB0Qr8AA/fE8Um2S2+BAAAADwGe4mpCvwACoKNE1JWdgAAAABNBmudJqEFomUwId//+qZYAAJWBAAAADEGfBUURLC//AACygQAAAA8BnyR0Qr8AAqFo7o7b4mcAAAAPAZ8makK/AAKgo0QWo817AAAAE0GbK0moQWyZTAh3//6plgAAlYAAAAAMQZ9JRRUsL/8AALKAAAAADwGfaHRCvwACoWjujtviZwAAAA8Bn2pqQr8AAqCjRBajzXsAAAASQZtvSahBbJlMCG///qeEAAEnAAAADEGfjUUVLC//AACygQAAAA8Bn6x0Qr8AAqFo7o7b4mcAAAAQAZ+uakK/AAPjbgOf1oHTuQAAABpBm7BJqEFsmUwId//+qZYAAZb2l4WoJ/ZEwAAAABJBm9RJ4QpSZTAh3/6plgAAlYAAAAAMQZ/yRTRML/8AALKBAAAADwGeEXRCvwACdWUcR2XadwAAABABnhNqQr8AA8xqHP8y3mRAAAAAEkGaGEmoQWiZTAhv//6nhAABJwAAAAxBnjZFESwv/wAAsoAAAAAQAZ5VdEK/AAPNYrF5/A6fwQAAAA8BnldqQr8AAnVlG6z1aZEAAAAaQZpZSahBbJlMCHf//qmWAAGUgsrjNL+2RMAAAAASQZp9SeEKUmUwId/+qZYAAJWBAAAADEGem0U0TC//AACygAAAAA8Bnrp0Qr8AAqFo7o7b4mcAAAAPAZ68akK/AAKgo0QWo817AAAAE0GaoUmoQWiZTAh3//6plgAAlYAAAAAMQZ7fRREsL/8AALKAAAAADwGe/nRCvwACoWjujtviZwAAABABnuBqQr8AA+NuA5/WgdO4AAAAE0Ga5UmoQWyZTAh3//6plgAAlYEAAAAMQZ8DRRUsL/8AALKAAAAADwGfInRCvwACoWjujtviZwAAAA8BnyRqQr8AAqCjRBajzXsAAAATQZspSahBbJlMCHf//qmWAACVgQAAAAxBn0dFFSwv/wAAsoEAAAAPAZ9mdEK/AAKhaO6O2+JnAAAADwGfaGpCvwACoKNEFqPNewAAACZBm21JqEFsmUwIb//+p4QABP/bp5lleMM/Apls7PgUKS3bzzciOQAAABBBn4tFFSwv/wAC/Ku7/PAwAAAADwGfqnRCvwAD4k8I1KW/4AAAABABn6xqQr8AA/jPCHjQ1smBAAAAE0Gbr0moQWyZTBRMN//+p4QAAScAAAAPAZ/OakK/AAP5YEuV/l9BAAAAEkGb0UnhClJlMFLDf/6nhAABJwAAABABn/BqQr8AA+6wDezx92NAAAAAE0Gb80nhDomUwUTDv/6plgAAlYEAAAAQAZ4SakK/AAPusA3s8fdjQAAAABtBmhdJ4Q8mUwId//6plgAChfJL8uz2oWQpdUcAAAAQQZ41RRE8L/8AAvwjd7hrwQAAABABnlR0Qr8AA/fE8Um2S2+AAAAADwGeVmpCvwACoKNE1JWdgQAAABlBmltJqEFomUwIb//+p4QABPhDLu32D9kLAAAAEEGeeUURLC//AAL8q7v88DAAAAAPAZ6YdEK/AAKhaO88472BAAAAEAGemmpCvwAD+M8IeNDWyYAAAAAaQZqdSahBbJlMFEw7//6plgAChfJL8u0ZupsAAAAQAZ68akK/AAP4C851oYYkQQAAABFBmqFJ4QpSZTAhv/6nhAABJwAAAAxBnt9FNEwv/wAAsoAAAAAPAZ7+dEK/AAKHZRxHZdpvAAAADwGe4GpCvwACoKNEFqPNewAAABJBmuVJqEFomUwIZ//+nhAABH0AAAAMQZ8DRREsL/8AALKAAAAADwGfInRCvwACoWjujtviZwAAAA8BnyRqQr8AAqCjRBajzXsAAAAaQZspS6hCEFskRggoB/IB/YeAIV/+OEAAEXEAAAAjQZ9HRRUsL/8CAdzqS9szCrmA6Bq1qFwJQBlok8LfMpM0nDEAAAAPAZ9mdEK/AAKhaO6O2+JnAAAAJQGfaGpCvwKvY+1BxN2qw0km5aqGByy1u80qIJosYchw0Wbb34AAAAxgbW9vdgAAAGxtdmhkAAAAAAAAAAAAAAAAAAAD6AAAH5AAAQAAAQAAAAAAAAAAAAAAAAEAAAAAAAAAAAAAAAAAAAABAAAAAAAAAAAAAAAAAABAAAAAAAAAAAAAAAAAAAAAAAAAAAAAAAAAAAAAAAAAAgAAC4p0cmFrAAAAXHRraGQAAAADAAAAAAAAAAAAAAABAAAAAAAAH5AAAAAAAAAAAAAAAAAAAAAAAAEAAAAAAAAAAAAAAAAAAAABAAAAAAAAAAAAAAAAAABAAAAAARAAAAEQAAAAAAAkZWR0cwAAABxlbHN0AAAAAAAAAAEAAB+QAAAEAAABAAAAAAsCbWRpYQAAACBtZGhkAAAAAAAAAAAAAAAAAAAyAAABlABVxAAAAAAALWhkbHIAAAAAAAAAAHZpZGUAAAAAAAAAAAAAAABWaWRlb0hhbmRsZXIAAAAKrW1pbmYAAAAUdm1oZAAAAAEAAAAAAAAAAAAAACRkaW5mAAAAHGRyZWYAAAAAAAAAAQAAAAx1cmwgAAAAAQAACm1zdGJsAAAAlXN0c2QAAAAAAAAAAQAAAIVhdmMxAAAAAAAAAAEAAAAAAAAAAAAAAAAAAAAAARABEABIAAAASAAAAAAAAAABAAAAAAAAAAAAAAAAAAAAAAAAAAAAAAAAAAAAAAAAAAAAGP//AAAAL2F2Y0MB9AAN/+EAF2f0AA2RmygiEdCAAAADAIAAABkHihTLAQAFaOvjxEgAAAAYc3R0cwAAAAAAAAABAAAAygAAAgAAAAAUc3RzcwAAAAAAAAABAAAAAQAABjhjdHRzAAAAAAAAAMUAAAABAAAEAAAAAAEAAAYAAAAAAQAAAgAAAAABAAAIAAAAAAIAAAIAAAAAAQAACgAAAAABAAAEAAAAAAEAAAAAAAAAAQAAAgAAAAABAAAKAAAAAAEAAAQAAAAAAQAAAAAAAAABAAACAAAAAAEAAAYAAAAAAQAAAgAAAAABAAAGAAAAAAEAAAIAAAAAAQAABgAAAAABAAACAAAAAAEAAAYAAAAAAQAAAgAAAAAEAAAEAAAAAAEAAAgAAAAAAgAAAgAAAAABAAAEAAAAAAEAAAoAAAAAAQAABAAAAAABAAAAAAAAAAEAAAIAAAAAAQAABAAAAAABAAAKAAAAAAEAAAQAAAAAAQAAAAAAAAABAAACAAAAAAEAAAoAAAAAAQAABAAAAAABAAAAAAAAAAEAAAIAAAAAAQAACgAAAAABAAAEAAAAAAEAAAAAAAAAAQAAAgAAAAABAAAKAAAAAAEAAAQAAAAAAQAAAAAAAAABAAACAAAAAAEAAAoAAAAAAQAABAAAAAABAAAAAAAAAAEAAAIAAAAAAQAACgAAAAABAAAEAAAAAAEAAAAAAAAAAQAAAgAAAAABAAAKAAAAAAEAAAQAAAAAAQAAAAAAAAABAAACAAAAAAEAAAoAAAAAAQAABAAAAAABAAAAAAAAAAEAAAIAAAAAAQAACgAAAAABAAAEAAAAAAEAAAAAAAAAAQAAAgAAAAABAAAEAAAAAAEAAAoAAAAAAQAABAAAAAABAAAAAAAAAAEAAAIAAAAAAQAABgAAAAABAAACAAAAAAEAAAYAAAAAAQAAAgAAAAABAAAGAAAAAAEAAAIAAAAAAQAABgAAAAABAAACAAAAAAEAAAYAAAAAAQAAAgAAAAABAAAGAAAAAAEAAAIAAAAAAQAABgAAAAABAAACAAAAAAEAAAYAAAAAAQAAAgAAAAABAAAGAAAAAAEAAAIAAAAAAQAABgAAAAABAAACAAAAAAEAAAYAAAAAAQAAAgAAAAABAAAGAAAAAAEAAAIAAAAAAQAACgAAAAABAAAEAAAAAAEAAAAAAAAAAQAAAgAAAAABAAAKAAAAAAEAAAQAAAAAAQAAAAAAAAABAAACAAAAAAEAAAoAAAAAAQAABAAAAAABAAAAAAAAAAEAAAIAAAAAAQAABgAAAAABAAACAAAAAAEAAAYAAAAAAQAAAgAAAAABAAAGAAAAAAEAAAIAAAAAAQAABgAAAAABAAACAAAAAAEAAAYAAAAAAQAAAgAAAAABAAAGAAAAAAEAAAIAAAAAAQAABgAAAAABAAACAAAAAAEAAAYAAAAAAQAAAgAAAAABAAAKAAAAAAEAAAQAAAAAAQAAAAAAAAABAAACAAAAAAEAAAoAAAAAAQAABAAAAAABAAAAAAAAAAEAAAIAAAAAAQAACgAAAAABAAAEAAAAAAEAAAAAAAAAAQAAAgAAAAABAAAKAAAAAAEAAAQAAAAAAQAAAAAAAAABAAACAAAAAAEAAAQAAAAAAQAACgAAAAABAAAEAAAAAAEAAAAAAAAAAQAAAgAAAAABAAAKAAAAAAEAAAQAAAAAAQAAAAAAAAABAAACAAAAAAEAAAQAAAAAAQAACgAAAAABAAAEAAAAAAEAAAAAAAAAAQAAAgAAAAABAAAKAAAAAAEAAAQAAAAAAQAAAAAAAAABAAACAAAAAAEAAAoAAAAAAQAABAAAAAABAAAAAAAAAAEAAAIAAAAAAQAACgAAAAABAAAEAAAAAAEAAAAAAAAAAQAAAgAAAAABAAAKAAAAAAEAAAQAAAAAAQAAAAAAAAABAAACAAAAAAEAAAYAAAAAAQAAAgAAAAABAAAGAAAAAAEAAAIAAAAAAQAABgAAAAABAAACAAAAAAEAAAoAAAAAAQAABAAAAAABAAAAAAAAAAEAAAIAAAAAAQAACgAAAAABAAAEAAAAAAEAAAAAAAAAAQAAAgAAAAABAAAGAAAAAAEAAAIAAAAAAQAACgAAAAABAAAEAAAAAAEAAAAAAAAAAQAAAgAAAAABAAAKAAAAAAEAAAQAAAAAAQAAAAAAAAABAAACAAAAAAEAAAoAAAAAAQAABAAAAAABAAAAAAAAAAEAAAIAAAAAHHN0c2MAAAAAAAAAAQAAAAEAAADKAAAAAQAAAzxzdHN6AAAAAAAAAAAAAADKAAAFegAAABEAAAAUAAAAHgAAABIAAAATAAAAKwAAABQAAAATAAAAEwAAACEAAAAUAAAAEwAAABMAAAAcAAAAEwAAABYAAAAUAAAAFgAAABQAAAAWAAAAFAAAABwAAAAcAAAAHAAAABwAAAAjAAAAFwAAABQAAAAdAAAAFQAAABAAAAAUAAAAFAAAAB4AAAAhAAAAFQAAABMAAAAUAAAAFwAAABAAAAAUAAAAFAAAABcAAAAQAAAAFAAAABQAAAAXAAAAEAAAABQAAAAUAAAAFwAAABgAAAAUAAAAFAAAABcAAAAQAAAAFAAAABQAAAAXAAAAEAAAABQAAAAUAAAAFgAAABAAAAAUAAAAFAAAABYAAAAYAAAAFAAAABQAAAAeAAAAKQAAABQAAAATAAAAEwAAABYAAAAUAAAAFgAAABQAAAAWAAAAFAAAABYAAAAUAAAAFgAAABQAAAAWAAAAFAAAABYAAAAUAAAAFgAAABQAAAAWAAAAFAAAABYAAAAUAAAAFwAAABQAAAAXAAAAFAAAAB8AAAAUAAAAFAAAABMAAAAXAAAAEAAAABMAAAATAAAAKgAAABQAAAATAAAAEwAAABcAAAAUAAAAFgAAABQAAAAWAAAAFAAAABYAAAAUAAAAFgAAABQAAAAWAAAAFAAAABcAAAAUAAAAFwAAABQAAAAfAAAAFAAAABQAAAATAAAAFwAAABAAAAATAAAAEwAAABcAAAAQAAAAEwAAABMAAAAWAAAAEAAAABMAAAAUAAAAHgAAABYAAAAQAAAAEwAAABQAAAAWAAAAEAAAABQAAAATAAAAHgAAABYAAAAQAAAAEwAAABMAAAAXAAAAEAAAABMAAAAUAAAAFwAAABAAAAATAAAAEwAAABcAAAAQAAAAEwAAABMAAAAqAAAAFAAAABMAAAAUAAAAFwAAABMAAAAWAAAAFAAAABcAAAAUAAAAHwAAABQAAAAUAAAAEwAAAB0AAAAUAAAAEwAAABQAAAAeAAAAFAAAABUAAAAQAAAAEwAAABMAAAAWAAAAEAAAABMAAAATAAAAHgAAACcAAAATAAAAKQAAABRzdGNvAAAAAAAAAAEAAAAwAAAAYnVkdGEAAABabWV0YQAAAAAAAAAhaGRscgAAAAAAAAAAbWRpcmFwcGwAAAAAAAAAAAAAAAAtaWxzdAAAACWpdG9vAAAAHWRhdGEAAAABAAAAAExhdmY1OC4yMC4xMDA=\" type=\"video/mp4\" />\n",
       "             </video>"
      ],
      "text/plain": [
       "<IPython.core.display.HTML object>"
      ]
     },
     "execution_count": 22,
     "metadata": {},
     "output_type": "execute_result"
    }
   ],
   "source": [
    "HTML(display_videos('fc_test9.mp4'))"
   ]
  },
  {
   "cell_type": "markdown",
   "metadata": {},
   "source": [
    "#### Answer\n",
    "When testing our algorithms on the test set, it is clear that the CNN is outperforming the FC (3.0 againt -0.9 in average score). However, when we look at the videos, we observe that the agent tends to be stucked in a certain loop (up-down or right-left) for both algorithms. There's therefore no exploration and the scores aren't optimal.\n",
    "\n",
    "When the temperature increases, the number of positive states (i.e. cells with cheese) increases and therefore the algorithms perform better. The CNN still performs better than the FC for every temperature."
   ]
  },
  {
   "cell_type": "markdown",
   "metadata": {},
   "source": [
    "***\n",
    "\n",
    "The algorithm tends to not explore the map which can be an issue. We propose two ideas in order to encourage exploration:\n",
    "1. Incorporating a decreasing $\\epsilon$-greedy exploration. You can use the method ```set_epsilon```\n",
    "2. Append via the environment a new state that describes if a cell has been visited or not\n",
    "\n",
    "***\n",
    "__Question 10__ Design a new ```train_explore``` function and environment class ```EnvironmentExploring``` to tackle the issue of exploration.\n",
    "\n"
   ]
  },
  {
   "cell_type": "code",
   "execution_count": 23,
   "metadata": {},
   "outputs": [],
   "source": [
    "def train_explore(agent,env,epoch, decay, prefix=''):\n",
    "    # Number of won games\n",
    "    score = 0\n",
    "    loss = 0\n",
    "\n",
    "    for e in range(epoch):\n",
    "        # At each epoch, we restart to a fresh game and get the initial state\n",
    "        state = env.reset()\n",
    "        # This assumes that the games will terminate\n",
    "        game_over = False\n",
    "\n",
    "        win = 0\n",
    "        lose = 0\n",
    "\n",
    "        while not game_over:\n",
    "            # The agent performs an action\n",
    "            \n",
    "            action = agent.act(state)\n",
    "\n",
    "            # Apply an action to the environment, get the next state, the reward\n",
    "            # and if the games end\n",
    "            prev_state = state\n",
    "            state, reward, game_over = env.act(action, train=True)\n",
    "\n",
    "            # Update the counters\n",
    "            if reward > 0:\n",
    "                win = win + reward\n",
    "            if reward < 0:\n",
    "                lose = lose -reward\n",
    "\n",
    "            # Apply the reinforcement strategy\n",
    "            loss = agent.reinforce(prev_state, state,  action, reward, game_over)\n",
    "        \n",
    "        ## Decaying the epsilon for a good exploitation-exploration trade-off\n",
    "        agent.set_epsilon(agent.epsilon * decay)\n",
    "\n",
    "        # Save as a mp4\n",
    "        if e % 10 == 0:\n",
    "            env.draw(prefix+str(e))\n",
    "\n",
    "        # Update stats\n",
    "        score += win-lose\n",
    "\n",
    "        print(\"Epoch {:03d}/{:03d} | Loss {:.4f} | Win/lose count {}/{} ({})\"\n",
    "              .format(e, epoch, loss, win, lose, win-lose))\n",
    "        agent.save(name_weights=prefix+'model.h5',name_model=prefix+'model.json')\n",
    "        \n",
    "class EnvironmentExploring(object):\n",
    "    \n",
    "    def __init__(self, grid_size=10, max_time=500, temperature=0.1):\n",
    "        grid_size = grid_size+4\n",
    "        self.grid_size = grid_size\n",
    "        self.max_time = max_time\n",
    "        self.temperature = temperature\n",
    "\n",
    "        #board on which one plays\n",
    "        self.board = np.zeros((grid_size,grid_size))\n",
    "        self.position = np.zeros((grid_size,grid_size))\n",
    "        self.malus_position = np.zeros((grid_size,grid_size))\n",
    "\n",
    "        # coordinate of the cat\n",
    "        self.x = 0\n",
    "        self.y = 1\n",
    "\n",
    "        # self time\n",
    "        self.t = 0\n",
    "\n",
    "        self.scale=16\n",
    "\n",
    "        self.to_draw = np.zeros((max_time+2, grid_size*self.scale, grid_size*self.scale, 3))\n",
    "\n",
    "\n",
    "    def draw(self,e):\n",
    "        skvideo.io.vwrite(str(e) + '.mp4', self.to_draw)\n",
    "\n",
    "    def get_frame(self,t):\n",
    "        b = np.zeros((self.grid_size,self.grid_size,3))+128\n",
    "        b[self.board>0,0] = 256\n",
    "        b[self.board < 0, 2] = 256\n",
    "        b[self.x,self.y,:]=256\n",
    "        b[-2:,:,:]=0\n",
    "        b[:,-2:,:]=0\n",
    "        b[:2,:,:]=0\n",
    "        b[:,:2,:]=0\n",
    "        \n",
    "        b =  cv2.resize(b, None, fx=self.scale, fy=self.scale, interpolation=cv2.INTER_NEAREST)\n",
    "\n",
    "        self.to_draw[t,:,:,:]=b\n",
    "\n",
    "\n",
    "    def act(self, action, train=False):\n",
    "        \"\"\"This function returns the new state, reward and decides if the\n",
    "        game ends.\"\"\"\n",
    "\n",
    "        self.get_frame(int(self.t))\n",
    "\n",
    "        self.position = np.zeros((self.grid_size, self.grid_size))\n",
    "\n",
    "        self.position[0:2,:]= -1\n",
    "        self.position[:,0:2] = -1\n",
    "        self.position[-2:, :] = -1\n",
    "        self.position[-2:, :] = -1\n",
    "\n",
    "        self.position[self.x, self.y] = 1\n",
    "        if action == 0:\n",
    "            if self.x == self.grid_size-3:\n",
    "                self.x = self.x-1\n",
    "            else:\n",
    "                self.x = self.x + 1\n",
    "        elif action == 1:\n",
    "            if self.x == 2:\n",
    "                self.x = self.x+1\n",
    "            else:\n",
    "                self.x = self.x-1\n",
    "        elif action == 2:\n",
    "            if self.y == self.grid_size - 3:\n",
    "                self.y = self.y - 1\n",
    "            else:\n",
    "                self.y = self.y + 1\n",
    "        elif action == 3:\n",
    "            if self.y == 2:\n",
    "                self.y = self.y + 1\n",
    "            else:\n",
    "                self.y = self.y - 1\n",
    "        else:\n",
    "            RuntimeError('Error: action not recognized')\n",
    "\n",
    "        self.t = self.t + 1\n",
    "        reward = 0\n",
    "        \n",
    "        ## During training, we add a malus (negative score) to the reward if the position has been visited\n",
    "        ## We hope that this would lead to more exploration\n",
    "        if train:\n",
    "            reward = -self.malus_position[self.x, self.y]\n",
    "        self.malus_position[self.x, self.y] = 0.1\n",
    "        reward = reward + self.board[self.x, self.y]\n",
    "        self.board[self.x, self.y] = 0\n",
    "        game_over = self.t > self.max_time\n",
    "        state = np.concatenate((self.malus_position.reshape(self.grid_size, self.grid_size,1),\n",
    "                                self.board.reshape(self.grid_size, self.grid_size,1),\n",
    "                        self.position.reshape(self.grid_size, self.grid_size,1)),axis=2)\n",
    "        state = state[self.x-2:self.x+3,self.y-2:self.y+3,:]\n",
    "\n",
    "        return state, reward, game_over\n",
    "\n",
    "    def reset(self):\n",
    "        \"\"\"This function resets the game and returns the initial state\"\"\"\n",
    "\n",
    "        self.x = np.random.randint(3, self.grid_size-3, size=1)[0]\n",
    "        self.y = np.random.randint(3, self.grid_size-3, size=1)[0]\n",
    "\n",
    "\n",
    "        bonus = 0.5*np.random.binomial(1,self.temperature,size=self.grid_size**2)\n",
    "        bonus = bonus.reshape(self.grid_size,self.grid_size)\n",
    "\n",
    "        malus = -1.0*np.random.binomial(1,self.temperature,size=self.grid_size**2)\n",
    "        malus = malus.reshape(self.grid_size, self.grid_size)\n",
    "\n",
    "        self.to_draw = np.zeros((self.max_time+2, self.grid_size*self.scale, self.grid_size*self.scale, 3))\n",
    "\n",
    "\n",
    "        malus[bonus>0]=0\n",
    "\n",
    "        self.board = bonus + malus\n",
    "\n",
    "        self.position = np.zeros((self.grid_size, self.grid_size))\n",
    "        self.position[0:2,:]= -1\n",
    "        self.position[:,0:2] = -1\n",
    "        self.position[-2:, :] = -1\n",
    "        self.position[-2:, :] = -1\n",
    "        self.board[self.x,self.y] = 0\n",
    "        self.t = 0\n",
    "\n",
    "        state = np.concatenate((self.malus_position.reshape(self.grid_size, self.grid_size,1),\n",
    "                                self.board.reshape(self.grid_size, self.grid_size,1),\n",
    "                        self.position.reshape(self.grid_size, self.grid_size,1)),axis=2)\n",
    "\n",
    "        state = state[self.x - 2:self.x + 3, self.y - 2:self.y + 3, :]\n",
    "        return state"
   ]
  },
  {
   "cell_type": "code",
   "execution_count": 24,
   "metadata": {},
   "outputs": [
    {
     "name": "stdout",
     "output_type": "stream",
     "text": [
      "Epoch 000/050 | Loss 0.0125 | Win/lose count 3.5/24.000000000000057 (-20.500000000000057)\n",
      "Epoch 001/050 | Loss 0.0138 | Win/lose count 2.5/20.60000000000003 (-18.10000000000003)\n",
      "Epoch 002/050 | Loss 0.0034 | Win/lose count 10.600000000000001/19.700000000000024 (-9.100000000000023)\n",
      "Epoch 003/050 | Loss 0.0141 | Win/lose count 8.399999999999999/19.10000000000001 (-10.70000000000001)\n",
      "Epoch 004/050 | Loss 0.0037 | Win/lose count 5.800000000000002/20.700000000000028 (-14.900000000000027)\n",
      "Epoch 005/050 | Loss 0.0107 | Win/lose count 8.8/17.59999999999998 (-8.79999999999998)\n",
      "Epoch 006/050 | Loss 0.0067 | Win/lose count 12.800000000000004/16.599999999999966 (-3.7999999999999616)\n",
      "Epoch 007/050 | Loss 0.0028 | Win/lose count 0.5/19.900000000000013 (-19.400000000000013)\n",
      "Epoch 008/050 | Loss 0.0135 | Win/lose count 3.5999999999999996/19.200000000000003 (-15.600000000000003)\n",
      "Epoch 009/050 | Loss 0.0041 | Win/lose count 8.100000000000001/18.099999999999987 (-9.999999999999986)\n",
      "Epoch 010/050 | Loss 0.0025 | Win/lose count 7.900000000000003/17.69999999999998 (-9.79999999999998)\n",
      "Epoch 011/050 | Loss 0.0015 | Win/lose count 9.800000000000004/17.59999999999998 (-7.799999999999976)\n",
      "Epoch 012/050 | Loss 0.0062 | Win/lose count 7.600000000000002/18.099999999999987 (-10.499999999999986)\n",
      "Epoch 013/050 | Loss 0.0040 | Win/lose count 4.8/18.9 (-14.099999999999998)\n",
      "Epoch 014/050 | Loss 0.0026 | Win/lose count 6.800000000000002/18.39999999999999 (-11.59999999999999)\n",
      "Epoch 015/050 | Loss 0.0060 | Win/lose count 3.9999999999999996/19.1 (-15.100000000000001)\n",
      "Epoch 016/050 | Loss 0.0058 | Win/lose count 3.5999999999999996/19.200000000000003 (-15.600000000000003)\n",
      "Epoch 017/050 | Loss 0.0057 | Win/lose count 5.2/18.799999999999997 (-13.599999999999998)\n",
      "Epoch 018/050 | Loss 0.0014 | Win/lose count 2.4/19.400000000000006 (-17.000000000000007)\n",
      "Epoch 019/050 | Loss 0.0042 | Win/lose count 2.4/19.500000000000007 (-17.10000000000001)\n",
      "Epoch 020/050 | Loss 0.0041 | Win/lose count 2.8/19.400000000000006 (-16.600000000000005)\n",
      "Epoch 021/050 | Loss 0.0027 | Win/lose count 6.600000000000002/18.39999999999999 (-11.79999999999999)\n",
      "Epoch 022/050 | Loss 0.0087 | Win/lose count 9.600000000000003/18.699999999999996 (-9.099999999999993)\n",
      "Epoch 023/050 | Loss 0.0033 | Win/lose count 3.5999999999999996/19.200000000000003 (-15.600000000000003)\n",
      "Epoch 024/050 | Loss 0.0044 | Win/lose count 3.5999999999999996/19.200000000000003 (-15.600000000000003)\n",
      "Epoch 025/050 | Loss 0.0017 | Win/lose count 0/20.100000000000016 (-20.100000000000016)\n",
      "Epoch 026/050 | Loss 0.0097 | Win/lose count 6.800000000000002/18.39999999999999 (-11.59999999999999)\n",
      "Epoch 027/050 | Loss 0.0061 | Win/lose count 3.1999999999999997/21.300000000000004 (-18.100000000000005)\n",
      "Epoch 028/050 | Loss 0.0074 | Win/lose count 16.900000000000006/16.899999999999974 (3.197442310920451e-14)\n",
      "Epoch 029/050 | Loss 0.0136 | Win/lose count 15.600000000000009/16.19999999999996 (-0.5999999999999517)\n",
      "Epoch 030/050 | Loss 0.0037 | Win/lose count 6.800000000000002/18.39999999999999 (-11.59999999999999)\n",
      "Epoch 031/050 | Loss 0.0061 | Win/lose count 4.8/18.9 (-14.099999999999998)\n",
      "Epoch 032/050 | Loss 0.0074 | Win/lose count 5.6000000000000005/18.699999999999996 (-13.099999999999994)\n",
      "Epoch 033/050 | Loss 0.0030 | Win/lose count 3.1999999999999997/19.300000000000004 (-16.100000000000005)\n",
      "Epoch 034/050 | Loss 0.0033 | Win/lose count 7.700000000000002/19.200000000000003 (-11.5)\n",
      "Epoch 035/050 | Loss 0.0073 | Win/lose count 3.9999999999999996/19.1 (-15.100000000000001)\n",
      "Epoch 036/050 | Loss 0.0051 | Win/lose count 3.9999999999999996/19.1 (-15.100000000000001)\n",
      "Epoch 037/050 | Loss 0.0143 | Win/lose count 3.1999999999999997/19.300000000000004 (-16.100000000000005)\n",
      "Epoch 038/050 | Loss 0.0050 | Win/lose count 6.800000000000002/20.400000000000023 (-13.600000000000023)\n",
      "Epoch 039/050 | Loss 0.0059 | Win/lose count 3.9999999999999996/19.1 (-15.100000000000001)\n",
      "Epoch 040/050 | Loss 0.0332 | Win/lose count 2.0/19.60000000000001 (-17.60000000000001)\n",
      "Epoch 041/050 | Loss 0.0078 | Win/lose count 17.6/15.69999999999996 (1.9000000000000412)\n",
      "Epoch 042/050 | Loss 0.0054 | Win/lose count 9.200000000000003/18.799999999999997 (-9.599999999999994)\n",
      "Epoch 043/050 | Loss 0.0019 | Win/lose count 8.000000000000002/18.099999999999987 (-10.099999999999985)\n",
      "Epoch 044/050 | Loss 0.0099 | Win/lose count 19.599999999999994/15.199999999999962 (4.400000000000032)\n",
      "Epoch 045/050 | Loss 0.0046 | Win/lose count 6.400000000000001/18.499999999999993 (-12.09999999999999)\n",
      "Epoch 046/050 | Loss 0.0116 | Win/lose count 13.600000000000007/17.69999999999998 (-4.099999999999975)\n",
      "Epoch 047/050 | Loss 0.0164 | Win/lose count 8.800000000000002/19.900000000000016 (-11.100000000000014)\n",
      "Epoch 048/050 | Loss 0.0115 | Win/lose count 11.200000000000005/18.299999999999994 (-7.099999999999989)\n",
      "Epoch 049/050 | Loss 0.0234 | Win/lose count 10.800000000000004/20.400000000000027 (-9.600000000000023)\n"
     ]
    },
    {
     "data": {
      "text/html": [
       "<video alt=\"test\" controls>\n",
       "                <source src=\"data:video/mp4;base64,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\" type=\"video/mp4\" />\n",
       "             </video>"
      ],
      "text/plain": [
       "<IPython.core.display.HTML object>"
      ]
     },
     "execution_count": 24,
     "metadata": {},
     "output_type": "execute_result"
    }
   ],
   "source": [
    "# Training\n",
    "env = EnvironmentExploring(grid_size=size, max_time=T, temperature=0.3)\n",
    "agent = DQN_CNN(size, lr=.1, epsilon = 0.6, memory_size=2000, batch_size = 32,n_state=3)\n",
    "train_explore(agent, env, epochs_train, decay=0.1, prefix='cnn_train_explore')\n",
    "HTML(display_videos('cnn_train_explore10.mp4'))"
   ]
  },
  {
   "cell_type": "code",
   "execution_count": 25,
   "metadata": {},
   "outputs": [
    {
     "name": "stdout",
     "output_type": "stream",
     "text": [
      "Win/lose count 21.0/3.0. Average score (18.0)\n",
      "Win/lose count 22.0/2.0. Average score (19.0)\n",
      "Win/lose count 10.0/1.0. Average score (15.666666666666666)\n",
      "Win/lose count 2.5/0. Average score (12.375)\n",
      "Win/lose count 18.0/1.0. Average score (13.3)\n",
      "Win/lose count 8.0/2.0. Average score (12.083333333333334)\n",
      "Win/lose count 9.0/1.0. Average score (11.5)\n",
      "Win/lose count 14.0/0. Average score (11.8125)\n",
      "Win/lose count 21.5/2.0. Average score (12.666666666666666)\n",
      "Win/lose count 16.0/1.0. Average score (12.9)\n",
      "Final score: 12.9\n"
     ]
    },
    {
     "data": {
      "text/html": [
       "<video alt=\"test\" controls>\n",
       "                <source src=\"data:video/mp4;base64,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\" type=\"video/mp4\" />\n",
       "             </video>"
      ],
      "text/plain": [
       "<IPython.core.display.HTML object>"
      ]
     },
     "execution_count": 25,
     "metadata": {},
     "output_type": "execute_result"
    }
   ],
   "source": [
    "# Evaluation\n",
    "test(agent,env,epochs_test,prefix='cnn_test_explore')\n",
    "HTML(display_videos('cnn_test_explore9.mp4'))"
   ]
  },
  {
   "cell_type": "markdown",
   "metadata": {},
   "source": [
    "#### Answer\n",
    "We observe that, for the same conditions as previously, the approach with exploration improves significantely our results. Indeed, for 10 test epochs, the final score of the CNN without exploration was 3.0. With exploration, the final score is 12.9 which shows the huge improvment."
   ]
  },
  {
   "cell_type": "markdown",
   "metadata": {},
   "source": [
    "***\n",
    "***\n",
    "__BONUS question__ Use the expert DQN from the previous question to generate some winning games. Train a model that mimicks its behavior. Compare the performances."
   ]
  },
  {
   "cell_type": "markdown",
   "metadata": {},
   "source": []
  },
  {
   "cell_type": "markdown",
   "metadata": {},
   "source": [
    "***"
   ]
  }
 ],
 "metadata": {
  "kernelspec": {
   "display_name": "Python 3",
   "language": "python",
   "name": "python3"
  },
  "language_info": {
   "codemirror_mode": {
    "name": "ipython",
    "version": 3
   },
   "file_extension": ".py",
   "mimetype": "text/x-python",
   "name": "python",
   "nbconvert_exporter": "python",
   "pygments_lexer": "ipython3",
   "version": "3.7.3"
  }
 },
 "nbformat": 4,
 "nbformat_minor": 4
}
